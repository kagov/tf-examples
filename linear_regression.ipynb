{
 "cells": [
  {
   "cell_type": "code",
   "execution_count": 1,
   "metadata": {
    "collapsed": true
   },
   "outputs": [],
   "source": [
    "# dependencies \n",
    "import tensorflow as tf\n",
    "import numpy as np\n",
    "from matplotlib import pyplot as plt\n",
    "import pandas as pd\n",
    "\n",
    "%matplotlib inline\n",
    "\n"
   ]
  },
  {
   "cell_type": "code",
   "execution_count": 2,
   "metadata": {
    "collapsed": true
   },
   "outputs": [],
   "source": [
    "def load_data():\n",
    "    data = pd.read_csv('data.txt')    \n",
    "    x= data.as_matrix(columns=None)\n",
    "    x_batch = x[:96 ,:1 ]\n",
    "    print x_batch.shape\n",
    "    y_batch = x[:96,1:]\n",
    "    print y_batch.shape\n",
    "    return x_batch,y_batch"
   ]
  },
  {
   "cell_type": "code",
   "execution_count": 16,
   "metadata": {
    "collapsed": true
   },
   "outputs": [],
   "source": [
    "def linear_regression():\n",
    "    x = tf.placeholder(tf.float32,shape=(None,1),name='x')\n",
    "    y = tf.placeholder(tf.float32,shape=(None,1),name='y')\n",
    "    with tf.variable_scope('lreg') as scope:\n",
    "        #w = tf.Variable(np.random.normal(),name = 'w')\n",
    "        w = tf.Variable(np.zeros((2,), dtype=np.float32),name = 'w')\n",
    "        b = tf.Variable(np.ones((2,), dtype=np.float32),name = 'bias')\n",
    "        y_pred = tf.multiply(w,x) + b\n",
    "        loss = tf.reduce_mean(tf.square(y_pred-y))\n",
    "        #loss = tf.nn.l2_loss(y_pred-y)\n",
    "    \n",
    "    return x,y,y_pred,loss,w"
   ]
  },
  {
   "cell_type": "code",
   "execution_count": 19,
   "metadata": {
    "collapsed": true
   },
   "outputs": [],
   "source": [
    "def run():\n",
    "    x_batch,y_batch = load_data()\n",
    "    x,y,y_pred,loss,w = linear_regression()\n",
    "    optimizer = tf.train.GradientDescentOptimizer(0.01).minimize(loss)\n",
    "    \n",
    "    \n",
    "    init = tf.global_variables_initializer()\n",
    "    sess = tf.Session()\n",
    "    sess.run(init)\n",
    "    \n",
    "    feed_dict = {x : x_batch , y : y_batch}\n",
    "    for i in range(1500):\n",
    "        loss_val,_  = sess.run([loss,optimizer],feed_dict)\n",
    "        if(i%150==0) :\n",
    "            print('loss: ',loss_val.mean())\n",
    "        \n",
    "    y_pred_batch = sess.run(y_pred , {x : x_batch})\n",
    "    plt.scatter(x_batch,y_batch)\n",
    "    plt.plot(x_batch,y_pred_batch,color = 'g')\n",
    "    \n",
    "    "
   ]
  },
  {
   "cell_type": "code",
   "execution_count": 20,
   "metadata": {},
   "outputs": [
    {
     "name": "stdout",
     "output_type": "stream",
     "text": [
      "(96, 1)\n",
      "(96, 1)\n",
      "('loss: ', 54.022625)\n",
      "('loss: ', 11.563077)\n",
      "('loss: ', 10.495384)\n",
      "('loss: ', 9.8735018)\n",
      "('loss: ', 9.511281)\n",
      "('loss: ', 9.3003035)\n",
      "('loss: ', 9.1774216)\n",
      "('loss: ', 9.1058455)\n",
      "('loss: ', 9.0641565)\n",
      "('loss: ', 9.0398741)\n"
     ]
    },
    {
     "data": {
      "image/png": "[encoded data removed]",
      "text/plain": [
       "<matplotlib.figure.Figure at 0x7f4e24932810>"
      ]
     },
     "metadata": {},
     "output_type": "display_data"
    }
   ],
   "source": [
    "if __name__ == '__main__':\n",
    "    run()\n"
   ]
  },
  {
   "cell_type": "code",
   "execution_count": null,
   "metadata": {
    "collapsed": true
   },
   "outputs": [],
   "source": []
  },
  {
   "cell_type": "code",
   "execution_count": null,
   "metadata": {
    "collapsed": true
   },
   "outputs": [],
   "source": []
  }
 ],
 "metadata": {
  "kernelspec": {
   "display_name": "Python 2",
   "language": "python",
   "name": "python2"
  },
  "language_info": {
   "codemirror_mode": {
    "name": "ipython",
    "version": 2
   },
   "file_extension": ".py",
   "mimetype": "text/x-python",
   "name": "python",
   "nbconvert_exporter": "python",
   "pygments_lexer": "ipython2",
   "version": "2.7.12"
  }
 },
 "nbformat": 4,
 "nbformat_minor": 2
}
